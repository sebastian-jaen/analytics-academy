{
 "cells": [
  {
   "cell_type": "markdown",
   "id": "74302f96",
   "metadata": {},
   "source": [
    "# Module 2: Basic EDA Practice\n",
    "\n",
    "This notebook walks through basic exploratory data analysis (EDA) on **sales.csv**."
   ]
  },
  {
   "cell_type": "markdown",
   "id": "bf32b687",
   "metadata": {},
   "source": [
    "## 1. Setup & Load Data"
   ]
  },
  {
   "cell_type": "code",
   "execution_count": null,
   "id": "821708f3",
   "metadata": {},
   "outputs": [],
   "source": [
    "import pandas as pd\n",
    "import matplotlib.pyplot as plt\n",
    "\n",
    "# Load the dataset\n",
    "## sales = pd.read_csv('assets/data/sales.csv')\n",
    "    ## if you have the file locally, uncomment the above line and insert the correct file path\n",
    "## I'll create the dataframe for you directly for demonstration purposes\n",
    "\n",
    "import numpy as np \n",
    "\n",
    "np.random.seed(0)\n",
    "dates = pd.date_range(start='2021-01-01',end='2021-06-30',freq='W-MON') \n",
    "regions = ['North', 'South', 'East', 'West']\n",
    "products = ['A', 'B', 'C']\n",
    "prices = {'A': 10.0, 'B': 15.0, 'C': 20.0}\n",
    "\n",
    "rows = []\n",
    "for date in dates:\n",
    "    for region in regions:\n",
    "        product = np.random.choice(products)\n",
    "        units = np.random.randint(1,21)\n",
    "        price = prices[product]\n",
    "        revenue = units * price\n",
    "        rows.append({\n",
    "            'Date': date.strftime('%Y-%m-%d'),\n",
    "            'Region': region,\n",
    "            'Product': product,\n",
    "            'Units Sold': units,\n",
    "            'Unit Price': price,\n",
    "            'Revenue': revenue\n",
    "        })\n",
    "sales = pd.DataFrame(rows)\n",
    "sales.head()"
   ]
  },
  {
   "cell_type": "markdown",
   "id": "eed7008f",
   "metadata": {},
   "source": [
    "## 2. Data Overview"
   ]
  },
  {
   "cell_type": "code",
   "execution_count": null,
   "id": "7bdc0916",
   "metadata": {},
   "outputs": [],
   "source": [
    "# Display info and summary statistics\n",
    "sales.info()\n",
    "\n",
    "sales.describe()"
   ]
  },
  {
   "cell_type": "markdown",
   "id": "024efafa",
   "metadata": {},
   "source": [
    "## 3. Time Series Analysis"
   ]
  },
  {
   "cell_type": "code",
   "execution_count": null,
   "id": "623c758e",
   "metadata": {},
   "outputs": [],
   "source": [
    "sales['Date'] = pd.to_datetime(sales['Date'])\n",
    "weekly_revenue = sales.groupby('Date')['Revenue'].sum()\n",
    "\n",
    "plt.figure(figsize=(10, 4))\n",
    "plt.plot(weekly_revenue)\n",
    "plt.title('Total Weekly Revenue')\n",
    "plt.xlabel('Date')\n",
    "plt.ylabel('Revenue')\n",
    "plt.tight_layout()\n",
    "plt.show()"
   ]
  },
  {
   "cell_type": "markdown",
   "id": "895cbdcd",
   "metadata": {},
   "source": [
    "## 4. Revenue by Region"
   ]
  },
  {
   "cell_type": "code",
   "execution_count": null,
   "id": "78b972b8",
   "metadata": {},
   "outputs": [],
   "source": [
    "region_rev = sales.groupby('Region')['Revenue'].sum()\n",
    "\n",
    "region_rev.plot(kind='bar', figsize=(6, 4), title='Total Revenue by Region')\n",
    "plt.ylabel('Revenue')\n",
    "plt.tight_layout()\n",
    "plt.show()"
   ]
  },
  {
   "cell_type": "markdown",
   "id": "6ff8fadb",
   "metadata": {},
   "source": [
    "## 5. Units Sold by Product"
   ]
  },
  {
   "cell_type": "code",
   "execution_count": null,
   "id": "0d3fdb2d",
   "metadata": {},
   "outputs": [],
   "source": [
    "prod_units = sales.groupby('Product')['Units Sold'].sum()\n",
    "\n",
    "prod_units.plot(kind='bar', figsize=(6, 4), title='Units Sold by Product')\n",
    "plt.ylabel('Units Sold')\n",
    "plt.tight_layout()\n",
    "plt.show()"
   ]
  },
  {
   "cell_type": "markdown",
   "id": "bfad8dce",
   "metadata": {},
   "source": [
    "## 6. Pivot Table: Monthly Revenue by Region"
   ]
  },
  {
   "cell_type": "code",
   "execution_count": null,
   "id": "b3028552",
   "metadata": {},
   "outputs": [],
   "source": [
    "sales['Month'] = sales['Date'].dt.to_period('M')\n",
    "pivot = sales.pivot_table(index='Month', columns='Region', values='Revenue', aggfunc='sum')\n",
    "pivot"
   ]
  },
  {
   "cell_type": "markdown",
   "id": "4b3d29ce",
   "metadata": {},
   "source": [
    "**Save your work** by downloading this notebook (*.ipynb*) when you’re done."
   ]
  }
 ],
 "metadata": {
  "kernelspec": {
   "display_name": "Python 3",
   "language": "python",
   "name": "python3"
  },
  "language_info": {
   "codemirror_mode": {
    "name": "ipython",
    "version": 3
   },
   "file_extension": ".py",
   "mimetype": "text/x-python",
   "name": "python",
   "nbconvert_exporter": "python",
   "pygments_lexer": "ipython3",
   "version": "3.12.3"
  }
 },
 "nbformat": 4,
 "nbformat_minor": 5
}
